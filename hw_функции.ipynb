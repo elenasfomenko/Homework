{
 "cells": [
  {
   "cell_type": "markdown",
   "metadata": {},
   "source": [
    "Домашнее задание к лекции \"Функции\""
   ]
  },
  {
   "cell_type": "code",
   "execution_count": 6,
   "metadata": {},
   "outputs": [
    {
     "name": "stdout",
     "output_type": "stream",
     "text": [
      "passport\"2207 876234\" \"Василий Гупкин\"\n",
      "invoice\"11-2\" \"Геннадий Покемонов\"\n",
      "insurance\"10006\" \"Аристарх Павлов\"\n"
     ]
    }
   ],
   "source": [
    "\n",
    "documents = [\n",
    "    {'type': 'passport', 'number': '2207 876234', 'name': 'Василий Гупкин'},\n",
    "    {'type': 'invoice', 'number': '11-2', 'name': 'Геннадий Покемонов'},\n",
    "    {'type': 'insurance', 'number': '10006', 'name': 'Аристарх Павлов'}\n",
    "]\n",
    "\n",
    "# document_number = input(\"Введите номер документа: \")\n",
    "# print(p(document_number))\n",
    "\n",
    "def p(documnet_number):\n",
    "    for x in documents:\n",
    "        if x['number'] == documnet_number:\n",
    "            return x['name']\n",
    "\n",
    "def l():\n",
    "    for x in documents:\n",
    "        type = x['type']\n",
    "        number = x['number']\n",
    "        name = x['name']\n",
    "        print('{0}\"{1}\" \"{2}\"'.format(type, number, name))\n",
    "        \n",
    "l()"
   ]
  },
  {
   "cell_type": "code",
   "execution_count": 15,
   "metadata": {},
   "outputs": [
    {
     "name": "stdout",
     "output_type": "stream",
     "text": [
      "Введите номер документа: 10006\n",
      "Аристарх Павлов\n"
     ]
    }
   ],
   "source": [
    "#p – people – команда, которая может узнать владельца документа по его номеру\n",
    "\n",
    "documents = [\n",
    "    {'type': 'passport', 'number': '2207 876234', 'name': 'Василий Гупкин'},\n",
    "    {'type': 'invoice', 'number': '11-2', 'name': 'Геннадий Покемонов'},\n",
    "    {'type': 'insurance', 'number': '10006', 'name': 'Аристарх Павлов'}\n",
    "]\n",
    "\n",
    "def p(documnet_number):\n",
    "    for x in documents:\n",
    "        if x['number'] == documnet_number:\n",
    "            return x['name']\n",
    "    \n",
    "    \n",
    "document_number = input(\"Введите номер документа: \")\n",
    "print(p(document_number))\n",
    "    \n",
    "\n",
    "        "
   ]
  },
  {
   "cell_type": "code",
   "execution_count": 5,
   "metadata": {},
   "outputs": [
    {
     "name": "stdout",
     "output_type": "stream",
     "text": [
      "Введите номер документа: 10006\n",
      "2\n"
     ]
    }
   ],
   "source": [
    "# Перечень полок, на которых находятся документы\n",
    "\n",
    "directories = {\n",
    "    '1': ['2207 876234', '11-2', '5455 028765'],\n",
    "    '2': ['10006', '5400 028765', '5455 002299'],\n",
    "    '3': []\n",
    "}\n",
    "\n",
    "def s(document_number):\n",
    "    for k in directories:\n",
    "        if document_number in directories[k]:\n",
    "            return k\n",
    "    return \"document undefined\"\n",
    "\n",
    "document_number = input(\"Введите номер документа: \")\n",
    "print(s(document_number))\n",
    "\n",
    "\n",
    "\n"
   ]
  },
  {
   "cell_type": "code",
   "execution_count": null,
   "metadata": {},
   "outputs": [],
   "source": [
    "# l – list – команда, которая выведет полную информацию по всем документам\n",
    "      \n",
    "        \n",
    "def l():\n",
    "    for x in documents: \n",
    "        type = x['type']\n",
    "        number = x['number']\n",
    "        name = x['name']\n",
    "        print('{0}\"{1}\" \"{2}\"'.format(type, number, name))\n",
    "        \n",
    "document_number = input(\"Введите номер документа: \")\n",
    "print(p(document_number))\n",
    "\n",
    "\n"
   ]
  },
  {
   "cell_type": "code",
   "execution_count": null,
   "metadata": {},
   "outputs": [],
   "source": [
    "directories = {\n",
    "    '1': ['2207 876234', '11-2', '5455 028765'],\n",
    "    '2': ['10006', '5400 028765', '5455 002299'],\n",
    "    '3': []\n",
    "}\n",
    "\n",
    "documents = [\n",
    "    {'type': 'passport', 'number': '2207 876234', 'name': 'Василий Гупкин'},\n",
    "    {'type': 'invoice', 'number': '11-2', 'name': 'Геннадий Покемонов'},\n",
    "    {'type': 'insurance', 'number': '10006', 'name': 'Аристарх Павлов'}\n",
    "]\n",
    "\n",
    "#ads – add shelf – команда, которая спросит номер новой полки и добавит ее в перечень\n",
    "\n",
    "def ads():\n",
    "    number = input(\"Введите номер новой полки: \")\n",
    "    directories[number] = []\n"
   ]
  },
  {
   "cell_type": "code",
   "execution_count": null,
   "metadata": {},
   "outputs": [],
   "source": [
    "directories = {\n",
    "    '1': ['2207 876234', '11-2', '5455 028765'],\n",
    "    '2': ['10006', '5400 028765', '5455 002299'],\n",
    "    '3': []\n",
    "}\n",
    "\n",
    "documents = [\n",
    "    {'type': 'passport', 'number': '2207 876234', 'name': 'Василий Гупкин'},\n",
    "    {'type': 'invoice', 'number': '11-2', 'name': 'Геннадий Покемонов'},\n",
    "    {'type': 'insurance', 'number': '10006', 'name': 'Аристарх Павлов'}\n",
    "]\n",
    "\n",
    "def a(doc_type, doc_number, doc_owner, shelf_id):\n",
    "  # Проверяем существование полки\n",
    "    if shelf_id not in directories:\n",
    "        return \"Полки не существует\"\n",
    "    \n",
    "  # Создаем словарь нового документа\n",
    "    new_doc = dict(type=doc_type, number=doc_number, name=doc_owner)\n",
    "\n",
    "  # Добавляем документ в список документов\n",
    "    documents.append(new_doc)\n",
    "  # Добавляем документ на необходимую полку\n",
    "    directories[shelf_id] += [doc_number]\n",
    "\n",
    "    return \"Документ успешно добавлен\"\n",
    "\n",
    "doc_type = input(\"Введите тип докемента: \")\n",
    "doc_number = input(\"Введите номер документа: \")\n",
    "doc_owner = input(\"Введите имя владельца документа: \")\n",
    "shelf_id = input(\"Введит номер полки {} : \".format(directories.keys()))\n",
    "print(a(doc_type, doc_number, doc_owner, shelf_id))\n",
    "print('')\n",
    "print(documents)\n",
    "print('')\n",
    "print(directories)\n",
    "\n",
    "\n"
   ]
  },
  {
   "cell_type": "code",
   "execution_count": null,
   "metadata": {},
   "outputs": [],
   "source": [
    "#d – delete – команда, которая спросит номер документа и удалит его из каталога и из перечня полок. \n",
    "#Предусмотрите сценарий, когда пользователь вводит несуществующий документ;\n",
    "\n",
    "directories = {\n",
    "    '1': ['2207 876234', '11-2', '5455 028765'],\n",
    "    '2': ['10006', '5400 028765', '5455 002299'],\n",
    "    '3': []\n",
    "}\n",
    "\n",
    "documents = [\n",
    "    {'type': 'passport', 'number': '2207 876234', 'name': 'Василий Гупкин'},\n",
    "    {'type': 'invoice', 'number': '11-2', 'name': 'Геннадий Покемонов'},\n",
    "    {'type': 'insurance', 'number': '10006', 'name': 'Аристарх Павлов'}\n",
    "]\n",
    "\n",
    "def d(doc_number):\n",
    "    initial_len = len(documents)\n",
    "    for i, d in enumerate(documents):\n",
    "        if d[\"number\"] == doc_number:\n",
    "            documents.pop(i)\n",
    "\n",
    "    if initial_len == len(documents):\n",
    "        return \"Документ не существует\"\n",
    "\n",
    "    for key, value in directories.items():\n",
    "        if doc_number in value:\n",
    "            value.remove(doc_number)\n",
    "\n",
    "    return \"Документ успешно удален\"\n",
    "\n",
    "doc_number = input(\"Введите номер документа, который хотите удалить: \")\n",
    "print(d(doc_number))\n",
    "print(documents)\n",
    "print(directories)"
   ]
  },
  {
   "cell_type": "code",
   "execution_count": null,
   "metadata": {},
   "outputs": [],
   "source": []
  }
 ],
 "metadata": {
  "kernelspec": {
   "display_name": "Python 3",
   "language": "python",
   "name": "python3"
  },
  "language_info": {
   "codemirror_mode": {
    "name": "ipython",
    "version": 3
   },
   "file_extension": ".py",
   "mimetype": "text/x-python",
   "name": "python",
   "nbconvert_exporter": "python",
   "pygments_lexer": "ipython3",
   "version": "3.8.3"
  }
 },
 "nbformat": 4,
 "nbformat_minor": 4
}
