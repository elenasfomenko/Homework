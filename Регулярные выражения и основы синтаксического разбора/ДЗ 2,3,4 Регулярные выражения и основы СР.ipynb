{
 "cells": [
  {
   "cell_type": "markdown",
   "metadata": {},
   "source": [
    "Регулярные выражения и основы синтаксического разбора"
   ]
  },
  {
   "cell_type": "code",
   "execution_count": 1,
   "metadata": {},
   "outputs": [
    {
     "name": "stdout",
     "output_type": "stream",
     "text": [
      "Напишите функцию, которая будет\n",
      "удалять все последовательные повторы слов\n",
      "из заданной строки при помощи регулярных выражений\n"
     ]
    }
   ],
   "source": [
    "# задание 2\n",
    "import re\n",
    "\n",
    "some_string = '''Напишите функцию функцию, которая будет будет будет будет\n",
    "удалять все все все все последовательные повторы слов\n",
    "из из из из заданной строки строки при помощи регулярных выражений'''\n",
    "\n",
    "\n",
    "def duplicate_replacer(some_string):\n",
    "    duplicate = r'(\\w+)(\\s\\1)+'\n",
    "    replace = r'\\1'\n",
    "    some_string = re.sub(duplicate, replace, some_string)\n",
    "    return some_string\n",
    "\n",
    "\n",
    "print(duplicate_replacer(some_string))\n",
    "\n"
   ]
  },
  {
   "cell_type": "code",
   "execution_count": 2,
   "metadata": {},
   "outputs": [
    {
     "name": "stdout",
     "output_type": "stream",
     "text": [
      "NFC\n"
     ]
    }
   ],
   "source": [
    "# задание 3\n",
    "\n",
    "import re\n",
    "\n",
    "some_string = 'Near field communication'\n",
    "\n",
    "\n",
    "def abbreviation(some_string):\n",
    "    some_string = some_string.upper()\n",
    "    find = r'(\\w)\\w+.'\n",
    "    replace = r'\\1'\n",
    "    abbreviation = re.sub(find, replace, some_string)\n",
    "    return abbreviation\n",
    "\n",
    "\n",
    "print(abbreviation(some_string))"
   ]
  },
  {
   "cell_type": "code",
   "execution_count": 3,
   "metadata": {},
   "outputs": [],
   "source": [
    "# задание 4\n",
    "\n",
    "import re\n",
    "\n",
    "emails_list = ['test@gmail.com', 'xyz@test.in', 'test@ya.ru', 'xyz@mail.ru', 'xyz@ya.ru', 'xyz@gmail.com']\n",
    "\n",
    "def emails(emails_list):\n",
    "# превратим список в строку\n",
    "    emails_string = ''.join(emails_list)\n",
    "# вытащим домены\n",
    "    domen_name = re.findall(r'\\w+\\.\\w{2,3}', str(re.findall(r'@\\w+\\.\\w{2,3}', emails_string)))\n",
    "\n",
    "    for i in range(0, len(set(domen_name))):\n",
    "        number = domen_name.count(domen_name[i])\n",
    "        print(domen_name[i], number)\n",
    "        \n",
    "        "
   ]
  }
 ],
 "metadata": {
  "kernelspec": {
   "display_name": "Python 3",
   "language": "python",
   "name": "python3"
  },
  "language_info": {
   "codemirror_mode": {
    "name": "ipython",
    "version": 3
   },
   "file_extension": ".py",
   "mimetype": "text/x-python",
   "name": "python",
   "nbconvert_exporter": "python",
   "pygments_lexer": "ipython3",
   "version": "3.8.3"
  }
 },
 "nbformat": 4,
 "nbformat_minor": 4
}
