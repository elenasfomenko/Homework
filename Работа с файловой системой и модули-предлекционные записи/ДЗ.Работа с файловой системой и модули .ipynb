{
 "cells": [
  {
   "cell_type": "code",
   "execution_count": null,
   "metadata": {},
   "outputs": [],
   "source": [
    "# создадим словарь, он будет хранится в памяти, остальное не будет\n",
    "purchase_log_file = open('purchase_log.txt', 'r', encoding='utf-8')\n",
    "purchases_dictionary = {}\n",
    "dict_str = purchase_log_file.readline()\n",
    "while dict_str:\n",
    "    dict_list = dict_str.split('\\\"')\n",
    "   # превратим строку в список, разрезав по \"\n",
    "    purchases_dictionary.update({dict_list[3]: dict_list[7]})\n",
    "    dict_str = purchase_log_file.readline()\n",
    "# удалим первую строку\n",
    "del purchases_dictionary['user_id']\n",
    "\n",
    "# читаем и пишем лог построчно\n",
    "visit_log_file = open('visit_log.csv', 'r')\n",
    "output_log = open('output_log.csv', 'w')\n",
    "visit_log_str = visit_log_file.readline()\n",
    "while visit_log_str:\n",
    "    # поиск id\n",
    "    visit_log = visit_log_str.split(',')\n",
    "    visit_log_str = visit_log_file.readline()\n",
    "    # проверка\n",
    "    if visit_log[0] in purchases_dictionary.keys():\n",
    "        data_0 = str(visit_log[0])\n",
    "        data_1 = str(visit_log[1])\n",
    "        data_2 = str(purchases_dictionary[visit_log[0]])\n",
    "        \n",
    "        text_for_file = data_0 + ' ' + data_1[:-1] + ' ' + data_2 + '\\n'\n",
    "        output_log.write(text_for_file)\n",
    "\n",
    "output_log.close()\n",
    "purchase_log_file.close()"
   ]
  }
 ],
 "metadata": {
  "kernelspec": {
   "display_name": "Python 3",
   "language": "python",
   "name": "python3"
  },
  "language_info": {
   "codemirror_mode": {
    "name": "ipython",
    "version": 3
   },
   "file_extension": ".py",
   "mimetype": "text/x-python",
   "name": "python",
   "nbconvert_exporter": "python",
   "pygments_lexer": "ipython3",
   "version": "3.8.3"
  }
 },
 "nbformat": 4,
 "nbformat_minor": 4
}
