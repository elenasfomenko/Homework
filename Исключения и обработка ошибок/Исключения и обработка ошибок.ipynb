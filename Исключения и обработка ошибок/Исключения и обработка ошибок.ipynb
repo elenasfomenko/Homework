{
 "cells": [
  {
   "cell_type": "markdown",
   "metadata": {},
   "source": [
    "Исключения и обработка ошибок"
   ]
  },
  {
   "cell_type": "code",
   "execution_count": 1,
   "metadata": {},
   "outputs": [],
   "source": [
    "# задание 1\n",
    "\n",
    "import datetime\n",
    "import calendar\n",
    "import re\n",
    "\n",
    "month_dict = {name: num for num, name in enumerate(calendar.month_abbr) if num}\n",
    "\n",
    "mt_date = 'Wednesday, October 2, 2002'\n",
    "g_date = 'Saturday, 11.10.13'\n",
    "dn_date = 'Thursday, 18 August 1977'\n",
    "\n",
    "\n",
    "def the_moscow_times_date(mt_date):\n",
    "    mt_date = mt_date.replace(',', '')\n",
    "    year_mt_date = int(mt_date.split()[3])\n",
    "    month_mt_date = month_dict[mt_date.split()[1][0:3]]\n",
    "    day_mt_date = int(mt_date.split()[2])\n",
    "    print(datetime.date(year_mt_date, month_mt_date, day_mt_date))\n",
    "\n",
    "\n",
    "\n",
    "\n",
    "def the_guardian_date(g_date):\n",
    "    test_g_date = g_date.split()[1]\n",
    "    g_date_year = re.search(r'(\\d\\d)(\\.)(\\d\\d)(\\.)(\\d\\d)', test_g_date)\n",
    "    test_g_date = test_g_date.replace(g_date_year[5], '20'+g_date_year[5])\n",
    "    test_g_date = re.sub(r'(\\.)', '/', test_g_date)\n",
    "    my_date = datetime.datetime.strptime(test_g_date, \"%d/%m/%Y\")\n",
    "    if calendar.day_name[my_date.weekday()] == g_date.replace(',', '').split()[0]:\n",
    "        print(my_date)\n",
    "    else:\n",
    "        test_g_date = g_date.split()[1]\n",
    "        g_date_year = re.search(r'(\\d\\d)(\\.)(\\d\\d)(\\.)(\\d\\d)', test_g_date)\n",
    "        test_g_date = test_g_date.replace(g_date_year[5], '19'+g_date_year[5])\n",
    "        test_g_date = re.sub(r'(\\.)', '/', test_g_date)\n",
    "        my_date = datetime.datetime.strptime(test_g_date, \"%d/%m/%Y\")\n",
    "        print(my_date)\n",
    "\n",
    "\n",
    "def daily_news(dn_date):\n",
    "    dn_date = dn_date.replace(',', '')\n",
    "    year_dn_date = int(dn_date.split()[3])\n",
    "    month_dn_date = month_dict[dn_date.split()[2][0:3]]\n",
    "    day_dn_date = int(dn_date.split()[1])\n",
    "    print(datetime.date(year_dn_date, month_dn_date, day_dn_date))"
   ]
  },
  {
   "cell_type": "code",
   "execution_count": null,
   "metadata": {},
   "outputs": [],
   "source": [
    "# задание 2\n",
    "\n",
    "import datetime\n",
    "\n",
    "\n",
    "stream = ['2018-04-02', '2018-02-29', '2018-19-02']\n",
    "\n",
    "for i in range(0, len(stream)):\n",
    "    date = stream[i].split('-')\n",
    "    try:\n",
    "        datetime.date(int(date[0]), int(date[1]), int(date[2]))\n",
    "        print('True')\n",
    "    except ValueError:\n",
    "        print('False')"
   ]
  },
  {
   "cell_type": "code",
   "execution_count": null,
   "metadata": {},
   "outputs": [],
   "source": [
    "# задание 3\n",
    "\n",
    "import datetime\n",
    "\n",
    "\n",
    "def data_range():\n",
    "    start_date = input('Введите дату начала в формате YYYY-MM-DD ')\n",
    "    end_date = input('Введите дату конца в формате YYYY-MM-DD ')\n",
    "    try:\n",
    "        y_start = int(start_date.split('-')[0])\n",
    "        m_start = int(start_date.split('-')[1])\n",
    "        d_start = int(start_date.split('-')[2])\n",
    "        y_end = int(end_date.split('-')[0])\n",
    "        m_end = int(end_date.split('-')[1])\n",
    "        d_end = int(end_date.split('-')[2])\n",
    "        start_datetime = datetime.datetime(y_start, m_start, d_start)\n",
    "        end_datetime = datetime.datetime(y_end, m_end, d_end)\n",
    "        if end_date <= start_date:\n",
    "            print('Некорректный интервал')\n",
    "        else:\n",
    "            difference = end_datetime - start_datetime\n",
    "            range_days = difference.days\n",
    "            for i in range(1, difference.days+1):\n",
    "                duration_day = datetime.timedelta(days=i)\n",
    "                result = start_datetime + duration_day\n",
    "                print(result)\n",
    "    except ValueError:\n",
    "        print('Кривой формат даты!')\n",
    "    except IndexError:\n",
    "        print('Кривой формат даты!')"
   ]
  },
  {
   "cell_type": "code",
   "execution_count": null,
   "metadata": {},
   "outputs": [],
   "source": [
    "# задание 4\n",
    "#Ошибка list index out of range означет, что элемент, к которому пытаются обратится по данному индексу, \n",
    "#отсутствует в массиве. При однократном запуске все естественно работает прекрасно, так как мы:\n",
    "#Изначально имеем список из элементов с номерами 0, 1, 2\n",
    "#Сносим последний элемент и получаем список с номерами 0, 1\n",
    "#Пытаемся обратится к элементу DEFAULT_USER_COUNT = 3-2 = 1 и такой элемент у нас есть \n",
    "#При втором же запуске мы делаем то же самое, но уже со списком с номерами 0, 1,\n",
    "#потом сносим еще один элемент и получаем список с номером 0 и пытаемся вытащить из него тот же первый элемент\n"
   ]
  }
 ],
 "metadata": {
  "kernelspec": {
   "display_name": "Python 3",
   "language": "python",
   "name": "python3"
  },
  "language_info": {
   "codemirror_mode": {
    "name": "ipython",
    "version": 3
   },
   "file_extension": ".py",
   "mimetype": "text/x-python",
   "name": "python",
   "nbconvert_exporter": "python",
   "pygments_lexer": "ipython3",
   "version": "3.8.3"
  }
 },
 "nbformat": 4,
 "nbformat_minor": 4
}
