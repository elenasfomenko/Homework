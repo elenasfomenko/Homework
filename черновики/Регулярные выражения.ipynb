{
 "cells": [
  {
   "cell_type": "code",
   "execution_count": 1,
   "metadata": {},
   "outputs": [
    {
     "ename": "NameError",
     "evalue": "name 't_list' is not defined",
     "output_type": "error",
     "traceback": [
      "\u001b[1;31m---------------------------------------------------------------------------\u001b[0m",
      "\u001b[1;31mNameError\u001b[0m                                 Traceback (most recent call last)",
      "\u001b[1;32m<ipython-input-1-cad2fdf3a384>\u001b[0m in \u001b[0;36m<module>\u001b[1;34m\u001b[0m\n\u001b[1;32m----> 1\u001b[1;33m \u001b[1;32mfor\u001b[0m \u001b[0mi\u001b[0m \u001b[1;32min\u001b[0m \u001b[0mrange\u001b[0m\u001b[1;33m(\u001b[0m\u001b[1;36m0\u001b[0m\u001b[1;33m,\u001b[0m \u001b[0mlen\u001b[0m\u001b[1;33m(\u001b[0m\u001b[0mt_list\u001b[0m\u001b[1;33m)\u001b[0m\u001b[1;33m)\u001b[0m\u001b[1;33m:\u001b[0m\u001b[1;33m\u001b[0m\u001b[1;33m\u001b[0m\u001b[0m\n\u001b[0m\u001b[0;32m      2\u001b[0m     \u001b[0mnumber\u001b[0m \u001b[1;33m=\u001b[0m \u001b[0mint\u001b[0m\u001b[1;33m(\u001b[0m\u001b[0mt_list\u001b[0m\u001b[1;33m[\u001b[0m\u001b[0mi\u001b[0m\u001b[1;33m]\u001b[0m\u001b[1;33m[\u001b[0m\u001b[1;36m0\u001b[0m\u001b[1;33m]\u001b[0m\u001b[1;33m)\u001b[0m\u001b[1;33m\u001b[0m\u001b[1;33m\u001b[0m\u001b[0m\n\u001b[0;32m      3\u001b[0m     \u001b[0mresult\u001b[0m \u001b[1;33m=\u001b[0m \u001b[0mif_number_is_white_test_func\u001b[0m\u001b[1;33m(\u001b[0m\u001b[0mt_list\u001b[0m\u001b[1;33m[\u001b[0m\u001b[0mi\u001b[0m\u001b[1;33m]\u001b[0m\u001b[1;33m[\u001b[0m\u001b[1;36m1\u001b[0m\u001b[1;33m]\u001b[0m\u001b[1;33m)\u001b[0m\u001b[1;33m\u001b[0m\u001b[1;33m\u001b[0m\u001b[0m\n\u001b[0;32m      4\u001b[0m     \u001b[0mcorrect_result\u001b[0m \u001b[1;33m=\u001b[0m \u001b[0mt_list\u001b[0m\u001b[1;33m[\u001b[0m\u001b[0mi\u001b[0m\u001b[1;33m]\u001b[0m\u001b[1;33m[\u001b[0m\u001b[1;36m2\u001b[0m\u001b[1;33m]\u001b[0m\u001b[1;33m\u001b[0m\u001b[1;33m\u001b[0m\u001b[0m\n\u001b[0;32m      5\u001b[0m     \u001b[0mprint\u001b[0m\u001b[1;33m(\u001b[0m\u001b[0mnumber\u001b[0m\u001b[1;33m,\u001b[0m \u001b[0mresult\u001b[0m\u001b[1;33m,\u001b[0m \u001b[0mcorrect_result\u001b[0m\u001b[1;33m)\u001b[0m\u001b[1;33m\u001b[0m\u001b[1;33m\u001b[0m\u001b[0m\n",
      "\u001b[1;31mNameError\u001b[0m: name 't_list' is not defined"
     ]
    }
   ],
   "source": [
    "for i in range(0, len(t_list)):\n",
    "    number = int(t_list[i][0])\n",
    "    result = if_number_is_white_test_func(t_list[i][1])\n",
    "    correct_result = t_list[i][2]\n",
    "    print(number, result, correct_result)"
   ]
  },
  {
   "cell_type": "markdown",
   "metadata": {},
   "source": [
    "Домашнее задание к лекции \"Регулярные выражения\"\n"
   ]
  },
  {
   "cell_type": "code",
   "execution_count": 3,
   "metadata": {},
   "outputs": [
    {
     "ename": "SyntaxError",
     "evalue": "invalid character in identifier (<ipython-input-3-5d248ae56237>, line 1)",
     "output_type": "error",
     "traceback": [
      "\u001b[1;36m  File \u001b[1;32m\"<ipython-input-3-5d248ae56237>\"\u001b[1;36m, line \u001b[1;32m1\u001b[0m\n\u001b[1;33m    №\u001b[0m\n\u001b[1;37m    ^\u001b[0m\n\u001b[1;31mSyntaxError\u001b[0m\u001b[1;31m:\u001b[0m invalid character in identifier\n"
     ]
    }
   ],
   "source": [
    "# Задание 1\n",
    "import re\n",
    "\n",
    "\n",
    "t_list = []\n",
    "t_sublist = []\n",
    "\n",
    "# это тестовый файл с номерами\n",
    "\n",
    "test_file = open('test.txt', 'r', encoding='ANSI')\n",
    "test_str = test_file.readline()\n",
    "while test_str:\n",
    "    test_list = test_str.split('\\t')\n",
    "    t_sublist.append(test_list[0])\n",
    "    t_sublist.append(test_list[1])\n",
    "    t_sublist.append(test_list[2][:-1])\n",
    "    t_list.append(t_sublist)\n",
    "    t_sublist = []\n",
    "    test_str = test_file.readline()\n",
    "test_file.close()\n",
    "\n",
    "states_file = open('states.txt', 'r', encoding='ANSI')\n",
    "states_dictionary = {}\n",
    "states_str = states_file.readline()\n",
    "while states_str:\n",
    "    states_list = states_str.split('\\t')\n",
    "    st_key = int(states_list[0])\n",
    "    st_value = states_list[1]\n",
    "    states_dictionary.update({st_key: st_value[:-1]})\n",
    "    states_str = states_file.readline()\n",
    "states_file.close()\n",
    "\n",
    "for i in range(0, len(t_list)):\n",
    "    number = int(t_list[i][0])\n",
    "    result = if_number_is_white_test_func(t_list[i][1])\n",
    "    correct_result = t_list[i][2]\n",
    "    print(number, result, correct_result)\n",
    "    \n",
    "    \n",
    "    \n",
    "    # с просить как скачать файл в дерикторию с номерами ?"
   ]
  },
  {
   "cell_type": "code",
   "execution_count": null,
   "metadata": {},
   "outputs": [],
   "source": [
    "# задание 2\n",
    "\n",
    "\n",
    "спросить где посмотреть задание 2, 3,4"
   ]
  }
 ],
 "metadata": {
  "kernelspec": {
   "display_name": "Python 3",
   "language": "python",
   "name": "python3"
  },
  "language_info": {
   "codemirror_mode": {
    "name": "ipython",
    "version": 3
   },
   "file_extension": ".py",
   "mimetype": "text/x-python",
   "name": "python",
   "nbconvert_exporter": "python",
   "pygments_lexer": "ipython3",
   "version": "3.8.3"
  }
 },
 "nbformat": 4,
 "nbformat_minor": 4
}
